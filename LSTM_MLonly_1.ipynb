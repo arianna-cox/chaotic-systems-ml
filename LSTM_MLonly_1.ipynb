{
 "cells": [
  {
   "cell_type": "code",
   "execution_count": null,
   "metadata": {},
   "outputs": [],
   "source": [
    "from tensorflow import keras\n",
    "from tensorflow.keras import layers\n",
    "import numpy as np\n",
    "import matplotlib.pyplot as plt"
   ]
  },
  {
   "cell_type": "markdown",
   "metadata": {},
   "source": [
    "Load and prepare data"
   ]
  },
  {
   "cell_type": "code",
   "execution_count": null,
   "metadata": {},
   "outputs": [],
   "source": [
    "return_sequences = False\n",
    "\n",
    "# Variables relating to the data you want to load\n",
    "n = 10000\n",
    "time_span = 5\n",
    "c = 100\n",
    "time_step = 0.1\n",
    "integration_time_step = 0.01\n",
    "number_timesteps_predict = 1\n",
    "std = 0"
   ]
  },
  {
   "cell_type": "code",
   "execution_count": null,
   "metadata": {},
   "outputs": [],
   "source": [
    "# Load the observations\n",
    "name = f\"{n}_{time_span}_{str(time_step).replace('.', '')}_{str(integration_time_step).replace('.', '')}_{number_timesteps_predict}_{std}\"\n",
    "dictionary = np.load(f\"data_dictionaries/data_{name}.npy\", allow_pickle=True).item()\n",
    "observations = dictionary[\"observations\"]\n",
    "predictions = dictionary[c]\n",
    "print(f'observations array shape = {observations.shape}')\n",
    "print(f'predictions array shape = {predictions.shape}')"
   ]
  },
  {
   "cell_type": "code",
   "execution_count": null,
   "metadata": {},
   "outputs": [],
   "source": [
    "# Split into training and test data\n",
    "\n",
    "frac = 0.9\n",
    "num_samples = observations.shape[0]\n",
    "cut_off = int(frac*num_samples)\n",
    "\n",
    "train_x = observations[:cut_off,:-number_timesteps_predict, :]\n",
    "test_x = observations[cut_off:,:-number_timesteps_predict, :]\n",
    "train_answer = observations[:cut_off, -1, :]\n",
    "test_answer = observations[cut_off:, -1, :]\n",
    "train_prediction = predictions[:cut_off, :]\n",
    "test_prediction = predictions[cut_off:, :]\n",
    "print(f\"shape of training data = {train_x.shape}\")\n",
    "print(f\"shape of training predictions = {train_prediction.shape}\")\n",
    "print(f\"shape of training answers = {train_answer.shape}\")"
   ]
  },
  {
   "cell_type": "markdown",
   "metadata": {},
   "source": [
    "Create the architecture"
   ]
  },
  {
   "cell_type": "code",
   "execution_count": null,
   "metadata": {},
   "outputs": [],
   "source": [
    "# Create the architecture\n",
    "model = keras.Sequential()\n",
    "model.add(layers.LSTM(64, input_shape=(None, 3), return_sequences=return_sequences))\n",
    "model.add(layers.Dense(16))\n",
    "model.add(layers.Dense(3))\n",
    "\n",
    "model.summary()\n",
    "\n",
    "model.compile(loss='mse', optimizer='adam')"
   ]
  },
  {
   "cell_type": "markdown",
   "metadata": {},
   "source": [
    "Train"
   ]
  },
  {
   "cell_type": "code",
   "execution_count": null,
   "metadata": {},
   "outputs": [],
   "source": [
    "history = model.fit(train_x, train_answer, epochs=1, validation_data=(test_x, test_answer), batch_size=32, verbose=2, shuffle=True)"
   ]
  },
  {
   "cell_type": "code",
   "execution_count": null,
   "metadata": {},
   "outputs": [],
   "source": [
    "# Plot history\n",
    "plt.plot(history.history['loss'], label='train')\n",
    "plt.plot(history.history['val_loss'], label='val')\n",
    "plt.legend()\n",
    "plt.show()"
   ]
  },
  {
   "cell_type": "code",
   "execution_count": null,
   "metadata": {},
   "outputs": [],
   "source": [
    "ML_predictions = model.predict(test_x)\n",
    "print(ML_predictions.shape)"
   ]
  },
  {
   "cell_type": "code",
   "execution_count": null,
   "metadata": {},
   "outputs": [],
   "source": [
    "a = 0\n",
    "b = 2\n",
    "for i in range(200,210,1):\n",
    "    plt.scatter(ML_predictions[i,a], ML_predictions[i,b], label = 'ML_prediction', s=12, marker ='x', color = 'b')\n",
    "    # plt.plot(test_x[i,:,a], test_x[i,:,b], label = 'data', color = 'g')\n",
    "    plt.plot(observations[9000+i,-2:,a], observations[9000+i,-2:,b], label = 'data', color = 'g')\n",
    "    plt.scatter(test_answer[i,a], test_answer[i,b], label = 'answer', s=5, color = 'r')\n",
    "    plt.scatter(test_prediction[i,a], test_prediction[i,b], label = 'prediction', s=10, color = 'y', marker ='o')\n",
    "    plt.legend()\n",
    "    plt.show()"
   ]
  },
  {
   "cell_type": "markdown",
   "metadata": {},
   "source": [
    "Save!"
   ]
  },
  {
   "cell_type": "code",
   "execution_count": 29,
   "metadata": {},
   "outputs": [],
   "source": [
    "model.save(f'saved_models/timesteps_{number_timesteps_predict}/ML_only_data_{name}.keras')"
   ]
  },
  {
   "cell_type": "code",
   "execution_count": null,
   "metadata": {},
   "outputs": [],
   "source": []
  }
 ],
 "metadata": {
  "kernelspec": {
   "display_name": "venv",
   "language": "python",
   "name": "python3"
  },
  "language_info": {
   "codemirror_mode": {
    "name": "ipython",
    "version": 3
   },
   "file_extension": ".py",
   "mimetype": "text/x-python",
   "name": "python",
   "nbconvert_exporter": "python",
   "pygments_lexer": "ipython3",
   "version": "3.11.0b3"
  },
  "orig_nbformat": 4
 },
 "nbformat": 4,
 "nbformat_minor": 2
}
