{
 "cells": [
  {
   "cell_type": "code",
   "execution_count": 2,
   "metadata": {},
   "outputs": [
    {
     "name": "stderr",
     "output_type": "stream",
     "text": [
      "2023-08-01 18:04:16.304137: I tensorflow/core/platform/cpu_feature_guard.cc:182] This TensorFlow binary is optimized to use available CPU instructions in performance-critical operations.\n",
      "To enable the following instructions: AVX2 FMA, in other operations, rebuild TensorFlow with the appropriate compiler flags.\n"
     ]
    }
   ],
   "source": [
    "from tensorflow import keras\n",
    "from tensorflow.keras import layers\n",
    "import numpy as np\n",
    "import matplotlib.pyplot as plt"
   ]
  },
  {
   "cell_type": "markdown",
   "metadata": {},
   "source": [
    "Load and prepare data"
   ]
  },
  {
   "cell_type": "code",
   "execution_count": 3,
   "metadata": {},
   "outputs": [],
   "source": [
    "return_sequences = False\n",
    "n = 10000\n",
    "time_span = 5\n",
    "c = 100\n",
    "time_step = 0.1\n",
    "integration_time_step = 0.01\n",
    "std = 0"
   ]
  },
  {
   "cell_type": "code",
   "execution_count": 10,
   "metadata": {},
   "outputs": [
    {
     "name": "stdout",
     "output_type": "stream",
     "text": [
      "observation array shape = (10000, 51, 3)\n"
     ]
    }
   ],
   "source": [
    "# Load the observations\n",
    "name = f\"{n}_{time_span}_{c}_{str(time_step).replace('.', '')}_{str(integration_time_step).replace('.', '')}_{std}\"\n",
    "observations = np.load(f\"data_no_std/test_observations_{name}.npy\")\n",
    "predictions = np.load(f\"data_no_std/test_predictions_{name}.npy\")\n",
    "print(f\"observation array shape = {observations.shape}\")"
   ]
  },
  {
   "cell_type": "code",
   "execution_count": 12,
   "metadata": {},
   "outputs": [
    {
     "name": "stdout",
     "output_type": "stream",
     "text": [
      "48.52176290761893\n"
     ]
    }
   ],
   "source": [
    "# Scale the data\n",
    "maximum = max( np.max(np.abs(observations)), np.max(np.abs(observations)))\n",
    "observations_scaled = observations/maximum\n",
    "predictions_scaled = predictions/maximum\n",
    "print(maximum)"
   ]
  },
  {
   "cell_type": "code",
   "execution_count": 13,
   "metadata": {},
   "outputs": [
    {
     "name": "stdout",
     "output_type": "stream",
     "text": [
      "shape of training data = (9000, 50, 3)\n",
      "shape of training predictions = (9000, 3)\n",
      "shape of training answers = (9000, 3)\n"
     ]
    }
   ],
   "source": [
    "# Split into training and test data\n",
    "\n",
    "frac = 0.9\n",
    "num_samples = observations_scaled.shape[0]\n",
    "cut_off = int(frac*num_samples)\n",
    "\n",
    "train_x = observations_scaled[:cut_off,:-1, :]\n",
    "test_x = observations_scaled[cut_off:,:-1, :]\n",
    "if return_sequences:\n",
    "    train_answer = observations_scaled[:cut_off, 1:, :]\n",
    "    test_answer = observations_scaled[cut_off:, 1:, :]\n",
    "    train_prediction = predictions_scaled[:cut_off, 1:, :]\n",
    "    test_prediction = predictions_scaled[cut_off:, 1:, :]\n",
    "else:\n",
    "    train_answer = observations_scaled[:cut_off, -1, :]\n",
    "    test_answer = observations_scaled[cut_off:, -1, :]\n",
    "    train_prediction = predictions_scaled[:cut_off, -1, :]\n",
    "    test_prediction = predictions_scaled[cut_off:, -1, :]\n",
    "print(f\"shape of training data = {train_x.shape}\")\n",
    "print(f\"shape of training predictions = {train_prediction.shape}\")\n",
    "print(f\"shape of training answers = {train_answer.shape}\")"
   ]
  },
  {
   "cell_type": "markdown",
   "metadata": {},
   "source": [
    "Create the architecture"
   ]
  },
  {
   "cell_type": "code",
   "execution_count": 7,
   "metadata": {},
   "outputs": [
    {
     "name": "stdout",
     "output_type": "stream",
     "text": [
      "Model: \"sequential\"\n",
      "_________________________________________________________________\n",
      " Layer (type)                Output Shape              Param #   \n",
      "=================================================================\n",
      " lstm (LSTM)                 (None, 64)                17408     \n",
      "                                                                 \n",
      " dense (Dense)               (None, 16)                1040      \n",
      "                                                                 \n",
      " dense_1 (Dense)             (None, 3)                 51        \n",
      "                                                                 \n",
      "=================================================================\n",
      "Total params: 18499 (72.26 KB)\n",
      "Trainable params: 18499 (72.26 KB)\n",
      "Non-trainable params: 0 (0.00 Byte)\n",
      "_________________________________________________________________\n"
     ]
    }
   ],
   "source": [
    "# Create the architecture\n",
    "model = keras.Sequential()\n",
    "model.add(layers.LSTM(64, input_shape=(None, 3), return_sequences=return_sequences))\n",
    "model.add(layers.Dense(16))\n",
    "model.add(layers.Dense(3))\n",
    "\n",
    "model.summary()\n",
    "\n",
    "model.compile(loss='mse', optimizer='adam')"
   ]
  },
  {
   "cell_type": "markdown",
   "metadata": {},
   "source": [
    "Train"
   ]
  },
  {
   "cell_type": "code",
   "execution_count": 19,
   "metadata": {},
   "outputs": [
    {
     "name": "stdout",
     "output_type": "stream",
     "text": [
      "Epoch 1/20\n",
      "282/282 - 9s - loss: 1.4093e-06 - val_loss: 1.9330e-06 - 9s/epoch - 32ms/step\n",
      "Epoch 2/20\n",
      "282/282 - 8s - loss: 1.1874e-06 - val_loss: 1.3117e-06 - 8s/epoch - 30ms/step\n",
      "Epoch 3/20\n",
      "282/282 - 7s - loss: 2.3319e-06 - val_loss: 3.3254e-06 - 7s/epoch - 25ms/step\n",
      "Epoch 4/20\n",
      "282/282 - 7s - loss: 1.5411e-06 - val_loss: 1.2060e-06 - 7s/epoch - 23ms/step\n",
      "Epoch 5/20\n",
      "282/282 - 8s - loss: 9.6785e-07 - val_loss: 7.3880e-07 - 8s/epoch - 28ms/step\n",
      "Epoch 6/20\n",
      "282/282 - 8s - loss: 8.6606e-07 - val_loss: 3.1552e-06 - 8s/epoch - 27ms/step\n",
      "Epoch 7/20\n",
      "282/282 - 8s - loss: 1.9995e-06 - val_loss: 2.4610e-06 - 8s/epoch - 30ms/step\n",
      "Epoch 8/20\n",
      "282/282 - 8s - loss: 1.3057e-06 - val_loss: 7.4402e-07 - 8s/epoch - 30ms/step\n",
      "Epoch 9/20\n",
      "282/282 - 8s - loss: 1.2526e-06 - val_loss: 1.2986e-06 - 8s/epoch - 30ms/step\n",
      "Epoch 10/20\n",
      "282/282 - 8s - loss: 1.3933e-06 - val_loss: 1.2373e-06 - 8s/epoch - 29ms/step\n",
      "Epoch 11/20\n"
     ]
    }
   ],
   "source": [
    "history = model.fit(train_x, train_answer, epochs=20, validation_data=(test_x, test_answer), batch_size=32, verbose=2, shuffle=True)"
   ]
  },
  {
   "cell_type": "code",
   "execution_count": 18,
   "metadata": {},
   "outputs": [
    {
     "data": {
      "image/png": "[encoded data removed]",
      "text/plain": [
       "<Figure size 640x480 with 1 Axes>"
      ]
     },
     "metadata": {},
     "output_type": "display_data"
    }
   ],
   "source": [
    "# Plot history\n",
    "plt.plot(history.history['loss'], label='train')\n",
    "plt.plot(history.history['val_loss'], label='val')\n",
    "plt.legend()\n",
    "plt.show()"
   ]
  },
  {
   "cell_type": "code",
   "execution_count": null,
   "metadata": {},
   "outputs": [],
   "source": [
    "ML_predictions = model.predict(test_x)\n",
    "print(ML_predictions.shape)"
   ]
  },
  {
   "cell_type": "code",
   "execution_count": null,
   "metadata": {},
   "outputs": [],
   "source": [
    "a = 0\n",
    "b = 2\n",
    "for i in range(100,110,1):\n",
    "    plt.scatter(ML_predictions[i,a], ML_predictions[i,b], label = 'ML_prediction', s=12, marker ='x', color = 'b')\n",
    "    # plt.plot(test_x[i,:,0], test_x[i,:,1], label = 'data', color = 'g')\n",
    "    plt.scatter(test_answer[i,a], test_answer[i,b], label = 'answer', s=5, color = 'r')\n",
    "    plt.scatter(test_prediction[i,a], test_prediction[i,b], label = 'prediction', s=10, color = 'y', marker ='o')\n",
    "    plt.legend()\n",
    "    plt.show()"
   ]
  },
  {
   "cell_type": "markdown",
   "metadata": {},
   "source": [
    "Save!"
   ]
  },
  {
   "cell_type": "code",
   "execution_count": null,
   "metadata": {},
   "outputs": [],
   "source": [
    "model.save(f'saved_models/ML_only_1_data_{name}.keras')"
   ]
  }
 ],
 "metadata": {
  "kernelspec": {
   "display_name": "venv",
   "language": "python",
   "name": "python3"
  },
  "language_info": {
   "codemirror_mode": {
    "name": "ipython",
    "version": 3
   },
   "file_extension": ".py",
   "mimetype": "text/x-python",
   "name": "python",
   "nbconvert_exporter": "python",
   "pygments_lexer": "ipython3",
   "version": "3.11.0b3"
  },
  "orig_nbformat": 4
 },
 "nbformat": 4,
 "nbformat_minor": 2
}
