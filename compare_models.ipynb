{
 "cells": [
  {
   "cell_type": "code",
   "execution_count": 3,
   "metadata": {},
   "outputs": [],
   "source": [
    "from tensorflow import keras\n",
    "from tensorflow.keras import layers\n",
    "import numpy as np\n",
    "import matplotlib.pyplot as plt"
   ]
  },
  {
   "cell_type": "code",
   "execution_count": null,
   "metadata": {},
   "outputs": [],
   "source": [
    "def mse_function(answer, prediction):\n",
    "    mse = ((answer - prediction)**2).mean(axis=0)\n",
    "    for i in range(len(answer.shape)):\n",
    "        mse = mse.mean(axis=0)\n",
    "    return mse"
   ]
  },
  {
   "cell_type": "markdown",
   "metadata": {},
   "source": [
    "Data to test on"
   ]
  },
  {
   "cell_type": "code",
   "execution_count": null,
   "metadata": {},
   "outputs": [],
   "source": [
    "n = 10000\n",
    "time_span = 5\n",
    "c = 100\n",
    "time_step = 0.1\n",
    "integration_time_step = 0.01\n",
    "number_timesteps_predict = 2\n",
    "std = 0\n",
    "\n",
    "# Load the observations\n",
    "name = f\"{n}_{time_span}_{c}_{str(time_step).replace('.', '')}_{str(integration_time_step).replace('.', '')}_{number_timesteps_predict}_{std}\"\n",
    "test_observations = np.load(f\"data_no_std/test_observations_{name}.npy\")\n",
    "test_predictions = np.load(f\"data_no_std/test_predictions_{name}.npy\")\n",
    "\n",
    "# Scale the data\n",
    "maximum = max(np.max(np.abs(test_observations)), np.max(np.abs(test_predictions)))\n",
    "observations_scaled = test_observations/maximum\n",
    "predictions_scaled = test_predictions/maximum\n",
    "\n",
    "# Calculate the mean squared error between the true observation and the imperfect model's prediction\n",
    "finalmse = mse_function(observations_scaled[:,-1,:] - predictions_scaled[:,-1,:])"
   ]
  },
  {
   "cell_type": "code",
   "execution_count": null,
   "metadata": {},
   "outputs": [],
   "source": [
    "# Variables relating to the data you want to load\n",
    "n = 10000\n",
    "time_span = 5\n",
    "time_step = 0.1\n",
    "integration_time_step = 0.01\n",
    "number_timesteps_predict = 1\n",
    "std = 0"
   ]
  },
  {
   "cell_type": "code",
   "execution_count": null,
   "metadata": {},
   "outputs": [],
   "source": [
    "c_array = np.array([50,100,200,500])\n",
    "c_vs_loss = np.zeros((3,4))\n",
    "\n",
    "for i, c in enumerate([50,100,200,500]):\n",
    "    loaded_model = keras.models.load_model(f'saved_models/timesteps_{number_timesteps_predict}/physical_1_data_{name}.keras')\n",
    "    prediction = loaded_model.predict(observations_scaled)\n",
    "    \n",
    "    if c = 100:\n",
    "        loaded_model = keras.models.load_model(f'saved_models/timesteps_{number_timesteps_predict}/ML_only_1_data_{name}.keras')\n",
    "        ml_loss = mse_function(observations_scaled[:,-1,:] - prediction[:,-1,:])"
   ]
  },
  {
   "cell_type": "code",
   "execution_count": null,
   "metadata": {},
   "outputs": [],
   "source": []
  }
 ],
 "metadata": {
  "kernelspec": {
   "display_name": "venv",
   "language": "python",
   "name": "python3"
  },
  "language_info": {
   "codemirror_mode": {
    "name": "ipython",
    "version": 3
   },
   "file_extension": ".py",
   "mimetype": "text/x-python",
   "name": "python",
   "nbconvert_exporter": "python",
   "pygments_lexer": "ipython3",
   "version": "3.11.0b3"
  },
  "orig_nbformat": 4
 },
 "nbformat": 4,
 "nbformat_minor": 2
}
