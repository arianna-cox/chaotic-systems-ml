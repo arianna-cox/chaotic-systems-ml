{
 "cells": [
  {
   "cell_type": "code",
   "execution_count": 2,
   "metadata": {},
   "outputs": [],
   "source": [
    "from tensorflow import keras\n",
    "from keras import layers\n",
    "import numpy as np\n",
    "import matplotlib.pyplot as plt"
   ]
  },
  {
   "cell_type": "code",
   "execution_count": null,
   "metadata": {},
   "outputs": [],
   "source": [
    "def mse_function(answer, prediction):\n",
    "    mse = ((answer - prediction)**2).mean(axis=0)\n",
    "    for i in range(len(answer.shape)-1):\n",
    "        mse = mse.mean(axis=0)\n",
    "    return mse"
   ]
  },
  {
   "cell_type": "markdown",
   "metadata": {},
   "source": [
    "Data to test on"
   ]
  },
  {
   "cell_type": "code",
   "execution_count": null,
   "metadata": {},
   "outputs": [],
   "source": [
    "# n = 10000\n",
    "# time_span = 5\n",
    "# c = 100\n",
    "# time_step = 0.1\n",
    "# integration_time_step = 0.01\n",
    "# number_timesteps_predict = 2\n",
    "# std = 0\n",
    "\n",
    "# Load the observations\n",
    "# name = f\"{n}_{time_span}_{str(time_step).replace('.', '')}_{str(integration_time_step).replace('.', '')}_{number_timesteps_predict}_{str(std).replace('.','')}\"\n",
    "# dictionary = np.load(f\"data_dictionaries/data_{name}.npy\", allow_pickle=True).item()\n",
    "# observations = dictionary[\"observations\"]\n",
    "# c = 25\n",
    "# predictions = dictionary[c]\n",
    "# print(dictionary)\n",
    "\n",
    "# # Calculate the mean squared error between the true observation and the imperfect model's prediction\n",
    "# finalmse = mse_function(observations_scaled[:,-1,:], predictions_scaled[:,-1,:])\n",
    "# print(finalmse)"
   ]
  },
  {
   "cell_type": "code",
   "execution_count": 3,
   "metadata": {},
   "outputs": [],
   "source": [
    "# Variables relating to the data you want to load\n",
    "n = 10000\n",
    "time_span = 5\n",
    "time_step = 0.1\n",
    "integration_time_step = 0.01\n",
    "number_timesteps_predict = 5\n",
    "std = 0.01"
   ]
  },
  {
   "cell_type": "code",
   "execution_count": null,
   "metadata": {},
   "outputs": [],
   "source": [
    "name = f\"{n}_{time_span}_{str(time_step).replace('.', '')}_{str(integration_time_step).replace('.', '')}_{number_timesteps_predict}_{str(std).replace('.', '')}\"\n",
    "MLonly_model = keras.models.load_model(f'saved_models/timesteps_{number_timesteps_predict}/MLonly_{name}.keras')"
   ]
  },
  {
   "cell_type": "code",
   "execution_count": null,
   "metadata": {},
   "outputs": [],
   "source": [
    "c_array = [0.1, 1, 25, 50, 75,100,125,150,175,200,225,250,275,300,350,400,500,600,700,800,900,1000]\n",
    "\n",
    "name = f\"{n}_{time_span}_{str(time_step).replace('.', '')}_{str(integration_time_step).replace('.', '')}_{number_timesteps_predict}_{str(std).replace('.', '')}\"\n",
    "dictionary = np.load(f\"data_dictionaries/data_{name}.npy\", allow_pickle=True).item()\n",
    "# dictionary['mse_imperfect_predictions'] = {}\n",
    "# dictionary['physical_loss'] = {}\n",
    "# dictionary['physical_error_loss'] = {}\n",
    "# dictionary['physical_two_stage_training_loss'] = {}\n",
    "test_observations = dictionary[\"observations\"]\n",
    "\n",
    "for i, c in enumerate(c_array):\n",
    "    print(c)\n",
    "    test_predictions = dictionary[c]\n",
    "\n",
    "    # Calculate the mean squared error between the true observation and the imperfect model's prediction\n",
    "    finalmse = mse_function(test_observations[:,-1,:], test_predictions)\n",
    "    print(f\"mse of imperfect predictions = {finalmse}\")\n",
    "    dictionary['mse_imperfect_predictions'][c] = finalmse\n",
    "\n",
    "    # #### Plot!\n",
    "    # print(f'c={c}')\n",
    "    # for i in range(2):\n",
    "    #     plt.plot(test_observations[i,-5:,1], test_observations[i,-5:,2])\n",
    "    #     plt.scatter(test_predictions[i,1], test_predictions[i,2])\n",
    "    #     plt.show()\n",
    "    # #####\n",
    "\n",
    "    if c != np.inf:\n",
    "        print('c not infinity') \n",
    "        test_X = {\"input_ob\": test_observations[:,:-number_timesteps_predict,:], \"input_pred\": test_predictions}\n",
    "    \n",
    "        # print(str(c).replace('.', ''))\n",
    "        # loaded_model = keras.models.load_model(f\"saved_models/timesteps_{number_timesteps_predict}/physical_c{str(c).replace('.', '')}_{name}.keras\")\n",
    "        # print('loaded!')\n",
    "        # loss_physical = loaded_model.evaluate(x = test_X, y = test_observations[:,-1,:])\n",
    "        # print('evaluated!')\n",
    "        # print(f\"loss = {loss_physical}\")\n",
    "        # dictionary['physical_loss'][c] = loss_physical\n",
    "    \n",
    "        \n",
    "        loaded_model = keras.models.load_model(f\"saved_models/timesteps_{number_timesteps_predict}/physical_error_c{str(c).replace('.', '')}_{name}.keras\")\n",
    "        print('loaded!')\n",
    "        loss_physical_error = loaded_model.evaluate(x = test_X, y = test_observations[:,-1,:] - test_predictions )\n",
    "        print('evaluated!')\n",
    "        print(f\"loss = {loss_physical_error}\")\n",
    "        dictionary['physical_error_loss'][c] = loss_physical_error\n",
    "    \n",
    "        # loaded_model = keras.models.load_model(f\"saved_models/timesteps_{number_timesteps_predict}/physical_two_stage_training_c{str(c).replace('.', '')}_{name}.keras\")\n",
    "        # print('loaded!')\n",
    "        # loss_physical_two_stage_training = loaded_model.evaluate(x = test_X, y = test_observations[:,-1,:] )\n",
    "        # print('evaluated!')\n",
    "        # print(f\"loss = {loss_physical_two_stage_training}\")\n",
    "        # dictionary['physical_two_stage_training_loss'][c] = loss_physical_two_stage_training\n",
    "\n",
    "MLonly_loss = MLonly_model.evaluate(x = test_observations[:,:-number_timesteps_predict,:], y = test_observations[:,-1,:])\n",
    "print(f'ML only loss = {MLonly_loss}')\n",
    "dictionary['MLonly_loss'] = MLonly_loss\n",
    "np.save(f\"data_dictionaries/data_{name}\", dictionary)"
   ]
  },
  {
   "cell_type": "code",
   "execution_count": 5,
   "metadata": {},
   "outputs": [
    {
     "ename": "FileNotFoundError",
     "evalue": "[Errno 2] No such file or directory: 'data_dictionaries/data_10000_5_01_001_5_001.npy'",
     "output_type": "error",
     "traceback": [
      "\u001b[0;31m---------------------------------------------------------------------------\u001b[0m",
      "\u001b[0;31mFileNotFoundError\u001b[0m                         Traceback (most recent call last)",
      "Cell \u001b[0;32mIn[5], line 3\u001b[0m\n\u001b[1;32m      1\u001b[0m c_array \u001b[38;5;241m=\u001b[39m [\u001b[38;5;241m0.1\u001b[39m, \u001b[38;5;241m1\u001b[39m, \u001b[38;5;241m25\u001b[39m, \u001b[38;5;241m50\u001b[39m, \u001b[38;5;241m75\u001b[39m,\u001b[38;5;241m100\u001b[39m,\u001b[38;5;241m125\u001b[39m,\u001b[38;5;241m150\u001b[39m,\u001b[38;5;241m175\u001b[39m,\u001b[38;5;241m200\u001b[39m,\u001b[38;5;241m225\u001b[39m,\u001b[38;5;241m250\u001b[39m,\u001b[38;5;241m275\u001b[39m,\u001b[38;5;241m300\u001b[39m,\u001b[38;5;241m350\u001b[39m,\u001b[38;5;241m400\u001b[39m,\u001b[38;5;241m500\u001b[39m,\u001b[38;5;241m600\u001b[39m,\u001b[38;5;241m700\u001b[39m,\u001b[38;5;241m800\u001b[39m,\u001b[38;5;241m900\u001b[39m,\u001b[38;5;241m1000\u001b[39m]\n\u001b[1;32m      2\u001b[0m name \u001b[38;5;241m=\u001b[39m \u001b[38;5;124mf\u001b[39m\u001b[38;5;124m\"\u001b[39m\u001b[38;5;132;01m{\u001b[39;00mn\u001b[38;5;132;01m}\u001b[39;00m\u001b[38;5;124m_\u001b[39m\u001b[38;5;132;01m{\u001b[39;00mtime_span\u001b[38;5;132;01m}\u001b[39;00m\u001b[38;5;124m_\u001b[39m\u001b[38;5;132;01m{\u001b[39;00m\u001b[38;5;28mstr\u001b[39m(time_step)\u001b[38;5;241m.\u001b[39mreplace(\u001b[38;5;124m'\u001b[39m\u001b[38;5;124m.\u001b[39m\u001b[38;5;124m'\u001b[39m,\u001b[38;5;250m \u001b[39m\u001b[38;5;124m'\u001b[39m\u001b[38;5;124m'\u001b[39m)\u001b[38;5;132;01m}\u001b[39;00m\u001b[38;5;124m_\u001b[39m\u001b[38;5;132;01m{\u001b[39;00m\u001b[38;5;28mstr\u001b[39m(integration_time_step)\u001b[38;5;241m.\u001b[39mreplace(\u001b[38;5;124m'\u001b[39m\u001b[38;5;124m.\u001b[39m\u001b[38;5;124m'\u001b[39m,\u001b[38;5;250m \u001b[39m\u001b[38;5;124m'\u001b[39m\u001b[38;5;124m'\u001b[39m)\u001b[38;5;132;01m}\u001b[39;00m\u001b[38;5;124m_\u001b[39m\u001b[38;5;132;01m{\u001b[39;00mnumber_timesteps_predict\u001b[38;5;132;01m}\u001b[39;00m\u001b[38;5;124m_\u001b[39m\u001b[38;5;132;01m{\u001b[39;00m\u001b[38;5;28mstr\u001b[39m(std)\u001b[38;5;241m.\u001b[39mreplace(\u001b[38;5;124m'\u001b[39m\u001b[38;5;124m.\u001b[39m\u001b[38;5;124m'\u001b[39m,\u001b[38;5;250m \u001b[39m\u001b[38;5;124m'\u001b[39m\u001b[38;5;124m'\u001b[39m)\u001b[38;5;132;01m}\u001b[39;00m\u001b[38;5;124m\"\u001b[39m\n\u001b[0;32m----> 3\u001b[0m dictionary \u001b[38;5;241m=\u001b[39m \u001b[43mnp\u001b[49m\u001b[38;5;241;43m.\u001b[39;49m\u001b[43mload\u001b[49m\u001b[43m(\u001b[49m\u001b[38;5;124;43mf\u001b[39;49m\u001b[38;5;124;43m\"\u001b[39;49m\u001b[38;5;124;43mdata_dictionaries/data_\u001b[39;49m\u001b[38;5;132;43;01m{\u001b[39;49;00m\u001b[43mname\u001b[49m\u001b[38;5;132;43;01m}\u001b[39;49;00m\u001b[38;5;124;43m.npy\u001b[39;49m\u001b[38;5;124;43m\"\u001b[39;49m\u001b[43m,\u001b[49m\u001b[43m \u001b[49m\u001b[43mallow_pickle\u001b[49m\u001b[38;5;241;43m=\u001b[39;49m\u001b[38;5;28;43;01mTrue\u001b[39;49;00m\u001b[43m)\u001b[49m\u001b[38;5;241m.\u001b[39mitem()\n\u001b[1;32m      4\u001b[0m finalmse \u001b[38;5;241m=\u001b[39m np\u001b[38;5;241m.\u001b[39mzeros(\u001b[38;5;28mlen\u001b[39m(c_array))\n\u001b[1;32m      5\u001b[0m loss_physical \u001b[38;5;241m=\u001b[39m np\u001b[38;5;241m.\u001b[39mzeros(\u001b[38;5;28mlen\u001b[39m(c_array))\n",
      "File \u001b[0;32m~/chaotic-systems-ml/venv/lib/python3.10/site-packages/numpy/lib/npyio.py:405\u001b[0m, in \u001b[0;36mload\u001b[0;34m(file, mmap_mode, allow_pickle, fix_imports, encoding, max_header_size)\u001b[0m\n\u001b[1;32m    403\u001b[0m     own_fid \u001b[38;5;241m=\u001b[39m \u001b[38;5;28;01mFalse\u001b[39;00m\n\u001b[1;32m    404\u001b[0m \u001b[38;5;28;01melse\u001b[39;00m:\n\u001b[0;32m--> 405\u001b[0m     fid \u001b[38;5;241m=\u001b[39m stack\u001b[38;5;241m.\u001b[39menter_context(\u001b[38;5;28;43mopen\u001b[39;49m\u001b[43m(\u001b[49m\u001b[43mos_fspath\u001b[49m\u001b[43m(\u001b[49m\u001b[43mfile\u001b[49m\u001b[43m)\u001b[49m\u001b[43m,\u001b[49m\u001b[43m \u001b[49m\u001b[38;5;124;43m\"\u001b[39;49m\u001b[38;5;124;43mrb\u001b[39;49m\u001b[38;5;124;43m\"\u001b[39;49m\u001b[43m)\u001b[49m)\n\u001b[1;32m    406\u001b[0m     own_fid \u001b[38;5;241m=\u001b[39m \u001b[38;5;28;01mTrue\u001b[39;00m\n\u001b[1;32m    408\u001b[0m \u001b[38;5;66;03m# Code to distinguish from NumPy binary files and pickles.\u001b[39;00m\n",
      "\u001b[0;31mFileNotFoundError\u001b[0m: [Errno 2] No such file or directory: 'data_dictionaries/data_10000_5_01_001_5_001.npy'"
     ]
    }
   ],
   "source": [
    "c_array = [0.1, 1, 25, 50, 75,100,125,150,175,200,225,250,275,300,350,400,500,600,700,800,900,1000]\n",
    "name = f\"{n}_{time_span}_{str(time_step).replace('.', '')}_{str(integration_time_step).replace('.', '')}_{number_timesteps_predict}_{str(std).replace('.', '')}\"\n",
    "dictionary = np.load(f\"data_dictionaries/data_{name}.npy\", allow_pickle=True).item()\n",
    "finalmse = np.zeros(len(c_array))\n",
    "loss_physical = np.zeros(len(c_array))\n",
    "loss_physical_error = np.zeros(len(c_array))\n",
    "# loss_physical_two_stage_training =  np.zeros(5)\n",
    "MLonly_loss = dictionary['MLonly_loss']\n",
    "# mse_perfect_model_prediction = dictionary['mse_imperfect_predictions'][np.inf]\n",
    "\n",
    "for i, c in enumerate(c_array):\n",
    "    finalmse[i] = dictionary['mse_imperfect_predictions'][c]\n",
    "    loss_physical[i] = dictionary['physical_loss'][c]\n",
    "    loss_physical_error[i] = dictionary['physical_error_loss'][c]\n",
    "# for i, c in enumerate([25, 100, 500, 900, 1000]):\n",
    "#     loss_physical_two_stage_training[i] = dictionary['physical_two_stage_training_loss'][c]\n",
    "\n",
    "plt.plot(c_array,finalmse,'-', label = 'imperfect model', color = 'g', )\n",
    "plt.plot(c_array, loss_physical, '-', label = 'ML physical model', color = 'r')\n",
    "plt.plot(c_array, loss_physical_error, '-', label = 'ML physical error model', color = 'purple')\n",
    "# plt.plot([25, 100, 500, 900, 1000], loss_physical_two_stage_training, '-', label = 'ML physical two stage training model', color = 'orange')\n",
    "plt.hlines(MLonly_loss, 0,1000, label = 'ML only model', color = 'b')\n",
    "# plt.hlines(mse_perfect_model_prediction, 0,1000, label = 'perfect model', color = 'b')\n",
    "plt.hlines(3*10**(-8), 0,1000, linestyle = '-.', label = 'perfect model', color = 'b')\n",
    "plt.xscale('log')\n",
    "plt.yscale('log')\n",
    "plt.xlabel('c')\n",
    "plt.ylabel('mse')\n",
    "plt.grid(which='major', color='black', linestyle='-', linewidth = 0.2)\n",
    "# plt.grid(which='minor', color='grey', linestyle='-')\n",
    "plt.legend()\n",
    "plt.title('mean squared error of models against c')\n",
    "plt.savefig(f'mse_vs_c_timesteps{number_timesteps_predict}_{name}')\n",
    "plt.show()\n",
    "\n",
    "plt.scatter(finalmse, loss_physical, 'x', label = 'ML physical model', color = 'r')\n",
    "plt.scatter(finalmse, loss_physical_error, '+', label = 'ML physical error model', color = 'purple')\n",
    "# plt.plot(c_array, loss_physical_two_stage_training, '-', label = 'ML physical two stage training model', color = 'orange')\n",
    "plt.hlines(MLonly_loss, 0,1, label = 'ML only model', color = 'b')\n",
    "# plt.hlines(mse_perfect_model_prediction, 0,1000, label = 'perfect model', color = 'b')\n",
    "# plt.hlines(3*10**(-8), 0,1, linestyle = '-.', label = 'perfect model', color = 'b')\n",
    "plt.plot(linspace(0,1,2), linspace(0,1,2), '--', label = 'y=x', color = 'b')\n",
    "plt.xscale('log')\n",
    "plt.yscale('log')\n",
    "plt.xlabel('imperfect model mse')\n",
    "plt.ylabel('mse')\n",
    "plt.grid(which='major', color='black', linestyle='-', linewidth = 0.2)\n",
    "# plt.grid(which='minor', color='grey', linestyle='-')\n",
    "plt.legend()\n",
    "plt.title('mse of ML models against mse of the imperfect physical model')\n",
    "plt.savefig(f'mse_vs_mse_timesteps{number_timesteps_predict}_{name}')\n"
   ]
  },
  {
   "cell_type": "code",
   "execution_count": null,
   "metadata": {},
   "outputs": [],
   "source": [
    "print('hi')"
   ]
  },
  {
   "cell_type": "code",
   "execution_count": null,
   "metadata": {},
   "outputs": [],
   "source": []
  }
 ],
 "metadata": {
  "kernelspec": {
   "display_name": "venv",
   "language": "python",
   "name": "venv"
  },
  "language_info": {
   "codemirror_mode": {
    "name": "ipython",
    "version": 3
   },
   "file_extension": ".py",
   "mimetype": "text/x-python",
   "name": "python",
   "nbconvert_exporter": "python",
   "pygments_lexer": "ipython3",
   "version": "3.10.12"
  }
 },
 "nbformat": 4,
 "nbformat_minor": 4
}
