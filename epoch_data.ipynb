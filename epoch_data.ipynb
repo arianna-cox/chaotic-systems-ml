{
 "cells": [
  {
   "cell_type": "code",
   "execution_count": 14,
   "metadata": {},
   "outputs": [],
   "source": [
    "import numpy as np"
   ]
  },
  {
   "cell_type": "code",
   "execution_count": 15,
   "metadata": {},
   "outputs": [],
   "source": [
    "timesteps = 5"
   ]
  },
  {
   "cell_type": "code",
   "execution_count": 16,
   "metadata": {},
   "outputs": [],
   "source": [
    "dict = np.load(f'saved_models/Lorentz/timesteps_{timesteps}/epoch_dictionary_corrected_Lorentz_10000_20_{timesteps}.npy', allow_pickle = True).item()"
   ]
  },
  {
   "cell_type": "code",
   "execution_count": 17,
   "metadata": {},
   "outputs": [
    {
     "name": "stdout",
     "output_type": "stream",
     "text": [
      "{'MLonly': [92, 62, 48, 75, 56], 'x_transformation_0': {'physical_error': {60: 165, 80: 220, 100: 249, 120: 156, 140: 174, 175: 27, 200: 11, 300: 8, 500: 13, 700: 14, 1000: 16}}}\n"
     ]
    }
   ],
   "source": [
    "print(dict)"
   ]
  },
  {
   "cell_type": "code",
   "execution_count": 18,
   "metadata": {},
   "outputs": [
    {
     "name": "stdout",
     "output_type": "stream",
     "text": [
      "[92, 62, 48, 75, 56]\n"
     ]
    }
   ],
   "source": [
    "print(dict['MLonly'])"
   ]
  },
  {
   "cell_type": "code",
   "execution_count": 19,
   "metadata": {},
   "outputs": [
    {
     "name": "stdout",
     "output_type": "stream",
     "text": [
      "{60: 165, 80: 220, 100: 249, 120: 156, 140: 174, 175: 27, 200: 11, 300: 8, 500: 13, 700: 14, 1000: 16}\n"
     ]
    }
   ],
   "source": [
    "print(dict['x_transformation_0']['physical_error'])"
   ]
  },
  {
   "cell_type": "code",
   "execution_count": null,
   "metadata": {},
   "outputs": [],
   "source": []
  }
 ],
 "metadata": {
  "kernelspec": {
   "display_name": "Python 3 (ipykernel)",
   "language": "python",
   "name": "python3"
  },
  "language_info": {
   "codemirror_mode": {
    "name": "ipython",
    "version": 3
   },
   "file_extension": ".py",
   "mimetype": "text/x-python",
   "name": "python",
   "nbconvert_exporter": "python",
   "pygments_lexer": "ipython3",
   "version": "3.11.0b3"
  }
 },
 "nbformat": 4,
 "nbformat_minor": 4
}
