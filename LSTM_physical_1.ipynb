{
 "cells": [
  {
   "cell_type": "code",
   "execution_count": 49,
   "metadata": {},
   "outputs": [],
   "source": [
    "from tensorflow import keras\n",
    "from tensorflow.keras import layers\n",
    "import numpy as np\n",
    "import matplotlib.pyplot as plt"
   ]
  },
  {
   "cell_type": "markdown",
   "metadata": {},
   "source": [
    "Load and prepare data"
   ]
  },
  {
   "cell_type": "code",
   "execution_count": 64,
   "metadata": {},
   "outputs": [],
   "source": [
    "return_sequences = False\n",
    "\n",
    "# Variables relating to the data you want to load\n",
    "n = 10000\n",
    "time_span = 5\n",
    "c = 100\n",
    "time_step = 0.1\n",
    "integration_time_step = 0.01\n",
    "number_timesteps_predict = 1\n",
    "std = 0"
   ]
  },
  {
   "cell_type": "code",
   "execution_count": 65,
   "metadata": {},
   "outputs": [
    {
     "name": "stdout",
     "output_type": "stream",
     "text": [
      "observations array shape = (10000, 51, 3)\n",
      "predictions array shape = (10000, 3)\n"
     ]
    }
   ],
   "source": [
    "# Load the observations\n",
    "name = f\"{n}_{time_span}_{str(time_step).replace('.', '')}_{str(integration_time_step).replace('.', '')}_{number_timesteps_predict}_{std}\"\n",
    "dictionary = np.load(f\"data_dictionaries/data_{name}.npy\", allow_pickle=True).item()\n",
    "observations = dictionary[\"observations\"]\n",
    "predictions = dictionary[c]\n",
    "print(f'observations array shape = {observations.shape}')\n",
    "print(f'predictions array shape = {predictions.shape}')"
   ]
  },
  {
   "cell_type": "code",
   "execution_count": 67,
   "metadata": {},
   "outputs": [
    {
     "name": "stdout",
     "output_type": "stream",
     "text": [
      "shape of training data = (9000, 50, 3)\n",
      "shape of training predictions = (9000, 3)\n",
      "shape of training answers = (9000, 3)\n"
     ]
    }
   ],
   "source": [
    "# Split into training and test data\n",
    "\n",
    "frac = 0.9\n",
    "num_samples = observations.shape[0]\n",
    "cut_off = int(frac*num_samples)\n",
    "\n",
    "train_x = observations[:cut_off,:-number_timesteps_predict, :]\n",
    "test_x = observations[cut_off:,:-number_timesteps_predict, :]\n",
    "train_answer = observations[:cut_off, -1, :]\n",
    "test_answer = observations[cut_off:, -1, :]\n",
    "train_prediction = predictions[:cut_off, :]\n",
    "test_prediction = predictions[cut_off:, :]\n",
    "print(f\"shape of training data = {train_x.shape}\")\n",
    "print(f\"shape of training predictions = {train_prediction.shape}\")\n",
    "print(f\"shape of training answers = {train_answer.shape}\")"
   ]
  },
  {
   "cell_type": "markdown",
   "metadata": {},
   "source": [
    "Create the architecture"
   ]
  },
  {
   "cell_type": "code",
   "execution_count": 68,
   "metadata": {},
   "outputs": [
    {
     "name": "stdout",
     "output_type": "stream",
     "text": [
      "Model: \"model_3\"\n",
      "__________________________________________________________________________________________________\n",
      " Layer (type)                Output Shape                 Param #   Connected to                  \n",
      "==================================================================================================\n",
      " input_ob (InputLayer)       [(None, None, 3)]            0         []                            \n",
      "                                                                                                  \n",
      " input_pred (InputLayer)     [(None, 3)]                  0         []                            \n",
      "                                                                                                  \n",
      " lstm_3 (LSTM)               (None, 64)                   17408     ['input_ob[0][0]']            \n",
      "                                                                                                  \n",
      " activation_3 (Activation)   (None, 3)                    0         ['input_pred[0][0]']          \n",
      "                                                                                                  \n",
      " concatenate_3 (Concatenate  (None, 67)                   0         ['lstm_3[0][0]',              \n",
      " )                                                                   'activation_3[0][0]']        \n",
      "                                                                                                  \n",
      " dense_6 (Dense)             (None, 16)                   1088      ['concatenate_3[0][0]']       \n",
      "                                                                                                  \n",
      " dense_7 (Dense)             (None, 3)                    51        ['dense_6[0][0]']             \n",
      "                                                                                                  \n",
      "==================================================================================================\n",
      "Total params: 18547 (72.45 KB)\n",
      "Trainable params: 18547 (72.45 KB)\n",
      "Non-trainable params: 0 (0.00 Byte)\n",
      "__________________________________________________________________________________________________\n"
     ]
    }
   ],
   "source": [
    "# Create the architecture\n",
    "# model = keras.Sequential()\n",
    "\n",
    "observation_input = layers.Input(shape=(None,3), name = 'input_ob')\n",
    "observation_LSTM = layers.LSTM(64, input_shape=(None, 3), return_sequences=return_sequences)(observation_input)\n",
    "\n",
    "prediction_input = layers.Input(shape=(3), name = 'input_pred')\n",
    "prediction_activation = layers.Activation('linear')(prediction_input)\n",
    "\n",
    "merge_layers = layers.Concatenate(axis=-1)([observation_LSTM, prediction_activation])\n",
    "merge_dense = layers.Dense(16)(merge_layers)\n",
    "output = layers.Dense(3)(merge_dense)\n",
    "\n",
    "model = keras.Model(inputs = [observation_input, prediction_input], outputs = output)\n",
    "\n",
    "model.summary()\n",
    "\n",
    "model.compile(loss='mse', optimizer='adam')\n",
    "\n",
    "# https://stackoverflow.com/questions/60679680/how-to-combine-two-lstm-layers-with-different-input-sizes-in-keras"
   ]
  },
  {
   "cell_type": "markdown",
   "metadata": {},
   "source": [
    "Train the model"
   ]
  },
  {
   "cell_type": "code",
   "execution_count": 69,
   "metadata": {},
   "outputs": [],
   "source": [
    "# train_X = [train_x, train_prediction]\n",
    "train_X = {\"input_ob\": train_x, \"input_pred\": train_prediction}\n",
    "validation_x = {\"input_ob\": test_x, \"input_pred\": test_prediction}"
   ]
  },
  {
   "cell_type": "code",
   "execution_count": 78,
   "metadata": {},
   "outputs": [
    {
     "name": "stdout",
     "output_type": "stream",
     "text": [
      "Epoch 1/10\n",
      "282/282 - 7s - loss: 2.7153e-06 - val_loss: 1.6442e-06 - 7s/epoch - 24ms/step\n",
      "Epoch 2/10\n",
      "282/282 - 6s - loss: 2.4864e-06 - val_loss: 2.0496e-06 - 6s/epoch - 23ms/step\n",
      "Epoch 3/10\n",
      "282/282 - 6s - loss: 3.3264e-06 - val_loss: 2.4691e-06 - 6s/epoch - 23ms/step\n",
      "Epoch 4/10\n",
      "282/282 - 6s - loss: 2.2704e-06 - val_loss: 2.3081e-06 - 6s/epoch - 22ms/step\n",
      "Epoch 5/10\n",
      "282/282 - 6s - loss: 2.5470e-06 - val_loss: 2.6171e-06 - 6s/epoch - 22ms/step\n",
      "Epoch 6/10\n",
      "282/282 - 6s - loss: 2.5677e-06 - val_loss: 1.2865e-06 - 6s/epoch - 22ms/step\n",
      "Epoch 7/10\n",
      "282/282 - 6s - loss: 2.2556e-06 - val_loss: 3.3485e-06 - 6s/epoch - 22ms/step\n",
      "Epoch 8/10\n",
      "282/282 - 6s - loss: 2.2765e-06 - val_loss: 2.8433e-06 - 6s/epoch - 23ms/step\n",
      "Epoch 9/10\n",
      "282/282 - 6s - loss: 2.1603e-06 - val_loss: 4.1778e-06 - 6s/epoch - 22ms/step\n",
      "Epoch 10/10\n",
      "282/282 - 7s - loss: 2.0391e-06 - val_loss: 1.9478e-06 - 7s/epoch - 24ms/step\n"
     ]
    }
   ],
   "source": [
    "# Train the model\n",
    "history = model.fit(train_X, train_answer, epochs=10, validation_data=(validation_x, test_answer), batch_size=32, verbose=2, shuffle=True)"
   ]
  },
  {
   "cell_type": "code",
   "execution_count": 79,
   "metadata": {},
   "outputs": [
    {
     "data": {
      "image/png": "[encoded data removed]",
      "text/plain": [
       "<Figure size 640x480 with 1 Axes>"
      ]
     },
     "metadata": {},
     "output_type": "display_data"
    }
   ],
   "source": [
    "# Plot history\n",
    "plt.plot(history.history['loss'], label='train')\n",
    "plt.plot(history.history['val_loss'], label='val')\n",
    "plt.yscale('log')\n",
    "plt.legend()\n",
    "plt.show()"
   ]
  },
  {
   "cell_type": "code",
   "execution_count": null,
   "metadata": {},
   "outputs": [],
   "source": [
    "ML_predictions = model.predict([test_x, test_prediction])\n",
    "print(ML_predictions.shape)"
   ]
  },
  {
   "cell_type": "code",
   "execution_count": null,
   "metadata": {},
   "outputs": [],
   "source": [
    "a = 0\n",
    "b = 2\n",
    "for i in range(200,210,1):\n",
    "    plt.scatter(ML_predictions[i,a], ML_predictions[i,b], label = 'ML_prediction', s=12, marker ='x', color = 'b')\n",
    "    # plt.plot(test_x[i,:,0], test_x[i,:,1], label = 'data', color = 'g')\n",
    "    plt.scatter(test_answer[i,a], test_answer[i,b], label = 'answer', s=5, color = 'r')\n",
    "    plt.scatter(test_prediction[i,a], test_prediction[i,b], label = 'prediction', s=10, color = 'y', marker ='o')\n",
    "    plt.legend()\n",
    "    plt.show()"
   ]
  },
  {
   "cell_type": "markdown",
   "metadata": {},
   "source": [
    "Save the model"
   ]
  },
  {
   "cell_type": "code",
   "execution_count": 80,
   "metadata": {},
   "outputs": [],
   "source": [
    "name = f\"{n}_{time_span}_{c}_{str(time_step).replace('.', '')}_{str(integration_time_step).replace('.', '')}_{number_timesteps_predict}_{std}\"\n",
    "model.save(f'saved_models/timesteps_{number_timesteps_predict}/physical_2_data_{name}.keras')"
   ]
  },
  {
   "cell_type": "markdown",
   "metadata": {},
   "source": []
  }
 ],
 "metadata": {
  "kernelspec": {
   "display_name": "venv",
   "language": "python",
   "name": "python3"
  },
  "language_info": {
   "codemirror_mode": {
    "name": "ipython",
    "version": 3
   },
   "file_extension": ".py",
   "mimetype": "text/x-python",
   "name": "python",
   "nbconvert_exporter": "python",
   "pygments_lexer": "ipython3",
   "version": "3.11.0b3"
  },
  "orig_nbformat": 4
 },
 "nbformat": 4,
 "nbformat_minor": 2
}
