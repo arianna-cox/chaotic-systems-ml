{
 "cells": [
  {
   "cell_type": "code",
   "execution_count": 1,
   "metadata": {},
   "outputs": [
    {
     "name": "stderr",
     "output_type": "stream",
     "text": [
      "2023-08-02 18:43:32.572971: I tensorflow/core/platform/cpu_feature_guard.cc:182] This TensorFlow binary is optimized to use available CPU instructions in performance-critical operations.\n",
      "To enable the following instructions: AVX2 FMA, in other operations, rebuild TensorFlow with the appropriate compiler flags.\n"
     ]
    }
   ],
   "source": [
    "from tensorflow import keras\n",
    "from tensorflow.keras import layers\n",
    "import numpy as np\n",
    "import matplotlib.pyplot as plt"
   ]
  },
  {
   "cell_type": "markdown",
   "metadata": {},
   "source": [
    "Load and prepare data"
   ]
  },
  {
   "cell_type": "code",
   "execution_count": 21,
   "metadata": {},
   "outputs": [],
   "source": [
    "return_sequences = False\n",
    "\n",
    "# Variables relating to the data you want to load\n",
    "n = 10000\n",
    "time_span = 5\n",
    "c = 200\n",
    "time_step = 0.1\n",
    "integration_time_step = 0.01\n",
    "number_timesteps_predict = 2\n",
    "std = 0"
   ]
  },
  {
   "cell_type": "code",
   "execution_count": 22,
   "metadata": {},
   "outputs": [
    {
     "name": "stdout",
     "output_type": "stream",
     "text": [
      "observation array shape = (10000, 51, 3)\n",
      "prediction array shape = (10000, 51, 3)\n"
     ]
    }
   ],
   "source": [
    "# Load the observations\n",
    "# name = f\"{n}_{time_span}_{c}_{str(time_step).replace('.', '')}_{str(integration_time_step).replace('.', '')}_{std}\"\n",
    "name = f\"{n}_{time_span}_{c}_{str(time_step).replace('.', '')}_{str(integration_time_step).replace('.', '')}_{number_timesteps_predict}_{std}\"\n",
    "observations = np.load(f\"data_no_std/test_observations_{name}.npy\")\n",
    "predictions = np.load(f\"data_no_std/test_predictions_{name}.npy\")\n",
    "print(f\"observation array shape = {observations.shape}\")\n",
    "print(f\"prediction array shape = {predictions.shape}\")"
   ]
  },
  {
   "cell_type": "code",
   "execution_count": 23,
   "metadata": {},
   "outputs": [
    {
     "name": "stdout",
     "output_type": "stream",
     "text": [
      "48.870570256179924\n"
     ]
    }
   ],
   "source": [
    "# Scale the data\n",
    "maximum = max( np.max(np.abs(observations)), np.max(np.abs(predictions)))\n",
    "observations_scaled = observations/maximum\n",
    "predictions_scaled = predictions/maximum\n",
    "print(maximum)"
   ]
  },
  {
   "cell_type": "code",
   "execution_count": 24,
   "metadata": {},
   "outputs": [
    {
     "name": "stdout",
     "output_type": "stream",
     "text": [
      "4.220976635825336e-06\n",
      "3.5798966309302104e-06\n"
     ]
    }
   ],
   "source": [
    "# Calculate the mean squared error between the true observation and the imperfect model's prediction\n",
    "mse = (((observations_scaled[:,number_timesteps_predict:,:] - predictions_scaled[:,number_timesteps_predict:,:])**2).mean(axis=0)).mean(axis=0).mean(axis=0)\n",
    "print(mse)\n",
    "finalmse = (((observations_scaled[:,-1,:] - predictions_scaled[:,-1,:])**2).mean(axis=0)).mean(axis=0)\n",
    "print(finalmse)"
   ]
  },
  {
   "cell_type": "code",
   "execution_count": 25,
   "metadata": {},
   "outputs": [
    {
     "name": "stdout",
     "output_type": "stream",
     "text": [
      "shape of training data = (9000, 49, 3)\n",
      "shape of training predictions = (9000, 3)\n",
      "shape of training answers = (9000, 3)\n"
     ]
    }
   ],
   "source": [
    "# Split into training and test data\n",
    "\n",
    "frac = 0.9\n",
    "num_samples = observations_scaled.shape[0]\n",
    "cut_off = int(frac*num_samples)\n",
    "timesteps_forward_predicted = 2\n",
    "\n",
    "train_x = observations_scaled[:cut_off,:-timesteps_forward_predicted, :]\n",
    "test_x = observations_scaled[cut_off:,:-timesteps_forward_predicted, :]\n",
    "if return_sequences:\n",
    "    train_answer = observations_scaled[:cut_off, timesteps_forward_predicted:, :]\n",
    "    test_answer = observations_scaled[cut_off:, timesteps_forward_predicted:, :]\n",
    "    train_prediction = predictions_scaled[:cut_off, timesteps_forward_predicted:, :]\n",
    "    test_prediction = predictions_scaled[cut_off:, timesteps_forward_predicted:, :]\n",
    "else:\n",
    "    train_answer = observations_scaled[:cut_off, -1, :]\n",
    "    test_answer = observations_scaled[cut_off:, -1, :]\n",
    "    train_prediction = predictions_scaled[:cut_off, -1, :]\n",
    "    test_prediction = predictions_scaled[cut_off:, -1, :]\n",
    "print(f\"shape of training data = {train_x.shape}\")\n",
    "print(f\"shape of training predictions = {train_prediction.shape}\")\n",
    "print(f\"shape of training answers = {train_answer.shape}\")"
   ]
  },
  {
   "cell_type": "markdown",
   "metadata": {},
   "source": [
    "Create the architecture"
   ]
  },
  {
   "cell_type": "code",
   "execution_count": 26,
   "metadata": {},
   "outputs": [
    {
     "name": "stdout",
     "output_type": "stream",
     "text": [
      "Model: \"model_1\"\n",
      "__________________________________________________________________________________________________\n",
      " Layer (type)                Output Shape                 Param #   Connected to                  \n",
      "==================================================================================================\n",
      " input_ob (InputLayer)       [(None, None, 3)]            0         []                            \n",
      "                                                                                                  \n",
      " input_pred (InputLayer)     [(None, 3)]                  0         []                            \n",
      "                                                                                                  \n",
      " lstm_1 (LSTM)               (None, 64)                   17408     ['input_ob[0][0]']            \n",
      "                                                                                                  \n",
      " activation_1 (Activation)   (None, 3)                    0         ['input_pred[0][0]']          \n",
      "                                                                                                  \n",
      " concatenate_1 (Concatenate  (None, 67)                   0         ['lstm_1[0][0]',              \n",
      " )                                                                   'activation_1[0][0]']        \n",
      "                                                                                                  \n",
      " dense_2 (Dense)             (None, 16)                   1088      ['concatenate_1[0][0]']       \n",
      "                                                                                                  \n",
      " dense_3 (Dense)             (None, 3)                    51        ['dense_2[0][0]']             \n",
      "                                                                                                  \n",
      "==================================================================================================\n",
      "Total params: 18547 (72.45 KB)\n",
      "Trainable params: 18547 (72.45 KB)\n",
      "Non-trainable params: 0 (0.00 Byte)\n",
      "__________________________________________________________________________________________________\n"
     ]
    }
   ],
   "source": [
    "# Create the architecture\n",
    "# model = keras.Sequential()\n",
    "\n",
    "observation_input = layers.Input(shape=(None,3), name = 'input_ob')\n",
    "observation_LSTM = layers.LSTM(64, input_shape=(None, 3), return_sequences=return_sequences)(observation_input)\n",
    "\n",
    "prediction_input = layers.Input(shape=(3), name = 'input_pred')\n",
    "prediction_activation = layers.Activation('linear')(prediction_input)\n",
    "\n",
    "merge_layers = layers.Concatenate(axis=-1)([observation_LSTM, prediction_activation])\n",
    "merge_dense = layers.Dense(16)(merge_layers)\n",
    "output = layers.Dense(3)(merge_dense)\n",
    "\n",
    "model = keras.Model(inputs = [observation_input, prediction_input], outputs = output)\n",
    "\n",
    "model.summary()\n",
    "\n",
    "model.compile(loss='mse', optimizer='adam')\n",
    "\n",
    "# https://stackoverflow.com/questions/60679680/how-to-combine-two-lstm-layers-with-different-input-sizes-in-keras"
   ]
  },
  {
   "cell_type": "markdown",
   "metadata": {},
   "source": [
    "Train the model"
   ]
  },
  {
   "cell_type": "code",
   "execution_count": 27,
   "metadata": {},
   "outputs": [],
   "source": [
    "# train_X = [train_x, train_prediction]\n",
    "train_X = {\"input_ob\": train_x, \"input_pred\": train_prediction}\n",
    "validation_x = {\"input_ob\": test_x, \"input_pred\": test_prediction}"
   ]
  },
  {
   "cell_type": "code",
   "execution_count": 43,
   "metadata": {},
   "outputs": [
    {
     "name": "stdout",
     "output_type": "stream",
     "text": [
      "282/282 - 6s - loss: 2.9722e-07 - val_loss: 1.6681e-07 - 6s/epoch - 23ms/step\n"
     ]
    }
   ],
   "source": [
    "# Train the model\n",
    "history = model.fit(train_X, train_answer, epochs=1, validation_data=(validation_x, test_answer), batch_size=32, verbose=2, shuffle=True)"
   ]
  },
  {
   "cell_type": "code",
   "execution_count": 30,
   "metadata": {},
   "outputs": [
    {
     "data": {
      "image/png": "[encoded data removed]",
      "text/plain": [
       "<Figure size 640x480 with 1 Axes>"
      ]
     },
     "metadata": {},
     "output_type": "display_data"
    }
   ],
   "source": [
    "# Plot history\n",
    "plt.plot(history.history['loss'], label='train')\n",
    "plt.plot(history.history['val_loss'], label='val')\n",
    "plt.legend()\n",
    "plt.show()"
   ]
  },
  {
   "cell_type": "code",
   "execution_count": null,
   "metadata": {},
   "outputs": [],
   "source": [
    "ML_predictions = model.predict([test_x, test_prediction])\n",
    "print(ML_predictions.shape)"
   ]
  },
  {
   "cell_type": "code",
   "execution_count": null,
   "metadata": {},
   "outputs": [],
   "source": [
    "a = 0\n",
    "b = 2\n",
    "for i in range(200,210,1):\n",
    "    plt.scatter(ML_predictions[i,a], ML_predictions[i,b], label = 'ML_prediction', s=12, marker ='x', color = 'b')\n",
    "    # plt.plot(test_x[i,:,0], test_x[i,:,1], label = 'data', color = 'g')\n",
    "    plt.scatter(test_answer[i,a], test_answer[i,b], label = 'answer', s=5, color = 'r')\n",
    "    plt.scatter(test_prediction[i,a], test_prediction[i,b], label = 'prediction', s=10, color = 'y', marker ='o')\n",
    "    plt.legend()\n",
    "    plt.show()"
   ]
  },
  {
   "cell_type": "markdown",
   "metadata": {},
   "source": [
    "Save the model"
   ]
  },
  {
   "cell_type": "code",
   "execution_count": 44,
   "metadata": {},
   "outputs": [],
   "source": [
    "model.save(f'saved_models/timesteps_{number_timesteps_predict}/physical_1_data_{name}.keras')"
   ]
  },
  {
   "cell_type": "markdown",
   "metadata": {},
   "source": []
  }
 ],
 "metadata": {
  "kernelspec": {
   "display_name": "venv",
   "language": "python",
   "name": "python3"
  },
  "language_info": {
   "codemirror_mode": {
    "name": "ipython",
    "version": 3
   },
   "file_extension": ".py",
   "mimetype": "text/x-python",
   "name": "python",
   "nbconvert_exporter": "python",
   "pygments_lexer": "ipython3",
   "version": "3.11.0b3"
  },
  "orig_nbformat": 4
 },
 "nbformat": 4,
 "nbformat_minor": 2
}
