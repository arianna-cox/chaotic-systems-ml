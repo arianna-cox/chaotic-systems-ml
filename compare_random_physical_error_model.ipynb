{
 "cells": [
  {
   "cell_type": "code",
   "execution_count": 10,
   "metadata": {},
   "outputs": [],
   "source": [
    "from tensorflow import keras\n",
    "from keras import layers\n",
    "import numpy as np\n",
    "import matplotlib.pyplot as plt\n",
    "from load_and_prepare_data_functions import load_and_subsample_series, split_training_data"
   ]
  },
  {
   "cell_type": "code",
   "execution_count": 11,
   "metadata": {},
   "outputs": [],
   "source": [
    "def mse_function(answer, prediction):\n",
    "    mse = ((answer - prediction)**2).mean(axis=0)\n",
    "    for i in range(len(answer.shape)-1):\n",
    "        mse = mse.mean(axis=0)\n",
    "    return mse"
   ]
  },
  {
   "cell_type": "code",
   "execution_count": 12,
   "metadata": {},
   "outputs": [],
   "source": [
    "# Variables relating to the data you want to load\n",
    "system = 'Lorentz'\n",
    "x_transformation_type = 0\n",
    "number_of_data_points = 10000\n",
    "length_of_subsequence = 20\n",
    "number_timesteps_predict = 10\n",
    "c = 50\n",
    "repetitions = 5"
   ]
  },
  {
   "cell_type": "code",
   "execution_count": 13,
   "metadata": {},
   "outputs": [],
   "source": [
    "name = f\"{system}_{number_of_data_points}\"\n",
    "test_filename = f'data_dictionaries/data_testing_{name}.npy'\n",
    "\n",
    "observations, predictions = load_and_subsample_series(number_of_data_points,\n",
    "                                                        system,\n",
    "                                                        length_of_subsequence + number_timesteps_predict,\n",
    "                                                        number_timesteps_predict = number_timesteps_predict,\n",
    "                                                        x_transformation_type = x_transformation_type,\n",
    "                                                        c = c,\n",
    "                                                        filename = test_filename)\n",
    "\n",
    "# Split into training and test data\n",
    "train_X, test_X, train_answer, test_answer = split_training_data(observations,\n",
    "                                                                    number_timesteps_predict,\n",
    "                                                                    predictions = predictions,\n",
    "                                                                    frac=0.9)"
   ]
  },
  {
   "cell_type": "code",
   "execution_count": 16,
   "metadata": {},
   "outputs": [
    {
     "name": "stdout",
     "output_type": "stream",
     "text": [
      "mse of imperfect predictions = 0.013959053877932339\n",
      "32/32 [==============================] - 1s 6ms/step - loss: 0.0011\n",
      "loss physical error = 0.0010754427639767528\n",
      "32/32 [==============================] - 1s 6ms/step - loss: 0.0020\n",
      "loss physical error random = 0.0019734068773686886\n",
      "32/32 [==============================] - 1s 6ms/step - loss: 0.0021\n",
      "loss physical error = 0.002084519015625119\n",
      "32/32 [==============================] - 1s 11ms/step - loss: 0.0015\n",
      "loss physical error random = 0.0015450201462954283\n",
      "32/32 [==============================] - 2s 8ms/step - loss: 0.0020\n",
      "loss physical error = 0.001998846186324954\n",
      "32/32 [==============================] - 1s 8ms/step - loss: 0.0021\n",
      "loss physical error random = 0.002055499469861388\n",
      "32/32 [==============================] - 1s 12ms/step - loss: 0.0018\n",
      "loss physical error = 0.0018332668114453554\n",
      "32/32 [==============================] - 2s 8ms/step - loss: 0.0019\n",
      "loss physical error random = 0.0019457114394754171\n",
      "32/32 [==============================] - 2s 10ms/step - loss: 9.3654e-04\n",
      "loss physical error = 0.0009365396690554917\n",
      "32/32 [==============================] - 1s 9ms/step - loss: 0.0016\n",
      "loss physical error random = 0.0015824063448235393\n"
     ]
    }
   ],
   "source": [
    "finalmse = mse_function(test_X['input_ob'][:,-1,:], test_X['input_pred'][:,:])\n",
    "print(f\"mse of imperfect predictions = {finalmse}\")\n",
    "not_random_loss = np.zeros((repetitions))\n",
    "random_loss = np.zeros((repetitions))\n",
    "\n",
    "for i in range(repetitions):\n",
    "    # Physical error ML model\n",
    "    save_name = f\"{system}{x_transformation_type}_c{str(c).replace('.','')}_{number_of_data_points}_{length_of_subsequence}_{number_timesteps_predict}\"\n",
    "    save_filepath = f'saved_models/random/physical_error_notrandom_number{i}_{save_name}'\n",
    "    loaded_model = keras.models.load_model(save_filepath)\n",
    "    loss_physical_error = loaded_model.evaluate(x = test_X, y = test_answer - test_X['input_pred'])\n",
    "    print(f\"loss physical error = {loss_physical_error}\")\n",
    "    not_random_loss[i] = loss_physical_error\n",
    "\n",
    "    # Physical error random ML model\n",
    "    save_filepath = f'saved_models/random/physical_error_random_number{i}_{save_name}'\n",
    "    loaded_model = keras.models.load_model(save_filepath)\n",
    "    loss_physical_error_random = loaded_model.evaluate(x = test_X, y = test_answer - test_X['input_pred'])\n",
    "    print(f\"loss physical error random = {loss_physical_error_random}\")\n",
    "    random_loss[i] = loss_physical_error_random"
   ]
  },
  {
   "cell_type": "code",
   "execution_count": 17,
   "metadata": {},
   "outputs": [
    {
     "name": "stdout",
     "output_type": "stream",
     "text": [
      "0.0015857228892855347 0.0018204088555648923 0.00048219728064761156 0.00021300744843930793\n"
     ]
    }
   ],
   "source": [
    "mean_loss_not_random = np.mean(not_random_loss)\n",
    "mean_loss_random = np.mean(random_loss)\n",
    "std_loss_not_random = np.std(not_random_loss)\n",
    "std_loss_random = np.std(random_loss)\n",
    "\n",
    "print(mean_loss_not_random, mean_loss_random, std_loss_not_random, std_loss_random)"
   ]
  },
  {
   "cell_type": "code",
   "execution_count": null,
   "metadata": {},
   "outputs": [],
   "source": []
  }
 ],
 "metadata": {
  "kernelspec": {
   "display_name": "venv",
   "language": "python",
   "name": "python3"
  },
  "language_info": {
   "codemirror_mode": {
    "name": "ipython",
    "version": 3
   },
   "file_extension": ".py",
   "mimetype": "text/x-python",
   "name": "python",
   "nbconvert_exporter": "python",
   "pygments_lexer": "ipython3",
   "version": "3.11.0"
  },
  "orig_nbformat": 4
 },
 "nbformat": 4,
 "nbformat_minor": 2
}
